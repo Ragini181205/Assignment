{
  "nbformat": 4,
  "nbformat_minor": 0,
  "metadata": {
    "colab": {
      "name": "Assignment1.ipynb",
      "provenance": [],
      "collapsed_sections": [],
      "authorship_tag": "ABX9TyNy+tQYjd3vO51D2umX/Arq",
      "include_colab_link": true
    },
    "kernelspec": {
      "name": "python3",
      "display_name": "Python 3"
    },
    "language_info": {
      "name": "python"
    }
  },
  "cells": [
    {
      "cell_type": "markdown",
      "metadata": {
        "id": "view-in-github",
        "colab_type": "text"
      },
      "source": [
        "<a href=\"https://colab.research.google.com/github/Ragini181205/Assignment/blob/main/Assignment1.ipynb\" target=\"_parent\"><img src=\"https://colab.research.google.com/assets/colab-badge.svg\" alt=\"Open In Colab\"/></a>"
      ]
    },
    {
      "cell_type": "code",
      "metadata": {
        "id": "GxZ_h_F8XUy5"
      },
      "source": [
        "list1 = [\"Suzuki\",\"Audi\",\"Mercedes\",\"Tata\"]\n",
        "list2 = [\"Tata\",\"Honda\",\"Hero\",\"Mahindra\"]"
      ],
      "execution_count": 27,
      "outputs": []
    },
    {
      "cell_type": "code",
      "metadata": {
        "colab": {
          "base_uri": "https://localhost:8080/"
        },
        "id": "4hdJYYCKZIHs",
        "outputId": "3edf2cf1-bae4-4e96-d207-2f5587cd6fec"
      },
      "source": [
        "list1 = sorted(list1)\n",
        "list1"
      ],
      "execution_count": 28,
      "outputs": [
        {
          "output_type": "execute_result",
          "data": {
            "text/plain": [
              "['Audi', 'Mercedes', 'Suzuki', 'Tata']"
            ]
          },
          "metadata": {
            "tags": []
          },
          "execution_count": 28
        }
      ]
    },
    {
      "cell_type": "code",
      "metadata": {
        "colab": {
          "base_uri": "https://localhost:8080/"
        },
        "id": "acNM9gbgZlNz",
        "outputId": "6ca69d8d-56db-44c0-bb7f-7e5b18cd9487"
      },
      "source": [
        "list2 = sorted(list2)\n",
        "list2"
      ],
      "execution_count": 29,
      "outputs": [
        {
          "output_type": "execute_result",
          "data": {
            "text/plain": [
              "['Hero', 'Honda', 'Mahindra', 'Tata']"
            ]
          },
          "metadata": {
            "tags": []
          },
          "execution_count": 29
        }
      ]
    },
    {
      "cell_type": "code",
      "metadata": {
        "colab": {
          "base_uri": "https://localhost:8080/"
        },
        "id": "e5aFrmwen01G",
        "outputId": "567814ce-9a4c-467a-a288-05982d8521a6"
      },
      "source": [
        "list3 = list1 + list2\n",
        "list3"
      ],
      "execution_count": 31,
      "outputs": [
        {
          "output_type": "execute_result",
          "data": {
            "text/plain": [
              "['Audi', 'Mercedes', 'Suzuki', 'Tata', 'Hero', 'Honda', 'Mahindra', 'Tata']"
            ]
          },
          "metadata": {
            "tags": []
          },
          "execution_count": 31
        }
      ]
    },
    {
      "cell_type": "code",
      "metadata": {
        "colab": {
          "base_uri": "https://localhost:8080/"
        },
        "id": "k8Xh0suvby43",
        "outputId": "a01ee26c-4e8e-44f8-fea5-4c692ee97617"
      },
      "source": [
        "list4 = list(set(list1) & set(list2))\n",
        "list4"
      ],
      "execution_count": 35,
      "outputs": [
        {
          "output_type": "execute_result",
          "data": {
            "text/plain": [
              "['Tata']"
            ]
          },
          "metadata": {
            "tags": []
          },
          "execution_count": 35
        }
      ]
    },
    {
      "cell_type": "code",
      "metadata": {
        "colab": {
          "base_uri": "https://localhost:8080/"
        },
        "id": "vt9rTc7mtKjh",
        "outputId": "41745240-52c1-4f9a-9a7e-b741d094bca8"
      },
      "source": [
        "Range1 = range(20,41)\n",
        "print(Range1)"
      ],
      "execution_count": 45,
      "outputs": [
        {
          "output_type": "stream",
          "text": [
            "range(20, 41)\n"
          ],
          "name": "stdout"
        }
      ]
    },
    {
      "cell_type": "code",
      "metadata": {
        "colab": {
          "base_uri": "https://localhost:8080/"
        },
        "id": "YlApWbm0t9tu",
        "outputId": "cfd2ed34-f45a-43c9-8308-fb95dbabba9b"
      },
      "source": [
        "for i in Range1:\n",
        "  print(i)"
      ],
      "execution_count": 46,
      "outputs": [
        {
          "output_type": "stream",
          "text": [
            "20\n",
            "21\n",
            "22\n",
            "23\n",
            "24\n",
            "25\n",
            "26\n",
            "27\n",
            "28\n",
            "29\n",
            "30\n",
            "31\n",
            "32\n",
            "33\n",
            "34\n",
            "35\n",
            "36\n",
            "37\n",
            "38\n",
            "39\n",
            "40\n"
          ],
          "name": "stdout"
        }
      ]
    }
  ]
}